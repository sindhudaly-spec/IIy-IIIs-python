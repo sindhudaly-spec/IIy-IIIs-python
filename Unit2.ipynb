{
  "nbformat": 4,
  "nbformat_minor": 0,
  "metadata": {
    "colab": {
      "provenance": [],
      "authorship_tag": "ABX9TyMrgphdrw6nTZOV4pjq8Du4",
      "include_colab_link": true
    },
    "kernelspec": {
      "name": "python3",
      "display_name": "Python 3"
    },
    "language_info": {
      "name": "python"
    }
  },
  "cells": [
    {
      "cell_type": "markdown",
      "metadata": {
        "id": "view-in-github",
        "colab_type": "text"
      },
      "source": [
        "<a href=\"https://colab.research.google.com/github/sindhudaly-spec/IIy-IIIs-python/blob/main/Unit2.ipynb\" target=\"_parent\"><img src=\"https://colab.research.google.com/assets/colab-badge.svg\" alt=\"Open In Colab\"/></a>"
      ]
    },
    {
      "cell_type": "code",
      "execution_count": 2,
      "metadata": {
        "colab": {
          "base_uri": "https://localhost:8080/"
        },
        "id": "LdGEUYC1aq5k",
        "outputId": "1374fef2-22cb-4757-a302-7bd54edf0ec3"
      },
      "outputs": [
        {
          "output_type": "stream",
          "name": "stdout",
          "text": [
            "--- Car Class Demonstration ---\n",
            "My car: Toyota Camry (2022)\n",
            "The 2022 Toyota Camry is starting.\n",
            "The 2022 Toyota Camry is already running.\n",
            "The 2022 Toyota Camry is stopping.\n",
            "The 2022 Toyota Camry is already stopped.\n"
          ]
        }
      ],
      "source": [
        "class Car:\n",
        "    def __init__(self, make, model, year):  # ✅ Correct constructor name\n",
        "        self.make = make\n",
        "        self.model = model\n",
        "        self.year = year\n",
        "        self.is_started = False  # To keep track of the car's state\n",
        "\n",
        "    def start(self):\n",
        "        if not self.is_started:\n",
        "            print(f\"The {self.year} {self.make} {self.model} is starting.\")\n",
        "            self.is_started = True\n",
        "        else:\n",
        "            print(f\"The {self.year} {self.make} {self.model} is already running.\")\n",
        "\n",
        "    def stop(self):\n",
        "        if self.is_started:\n",
        "            print(f\"The {self.year} {self.make} {self.model} is stopping.\")\n",
        "            self.is_started = False\n",
        "        else:\n",
        "            print(f\"The {self.year} {self.make} {self.model} is already stopped.\")\n",
        "\n",
        "\n",
        "# Demonstrating the Car class\n",
        "print(\"--- Car Class Demonstration ---\")\n",
        "my_car = Car(\"Toyota\", \"Camry\", 2022)\n",
        "print(f\"My car: {my_car.make} {my_car.model} ({my_car.year})\")\n",
        "my_car.start()\n",
        "my_car.start()\n",
        "my_car.stop()\n",
        "my_car.stop()"
      ]
    },
    {
      "cell_type": "code",
      "source": [
        "class Animal:\n",
        "    def __init__(self, name):   # ✅ Correct constructor name\n",
        "        self.name = name\n",
        "\n",
        "    def eat(self):\n",
        "        print(f\"{self.name} is eating.\")\n",
        "\n",
        "    def sleep(self):\n",
        "        print(f\"{self.name} is sleeping.\")\n",
        "\n",
        "\n",
        "class Dog(Animal):\n",
        "    def bark(self):\n",
        "        print(f\"{self.name} says Woof!\")\n",
        "\n",
        "\n",
        "class Cat(Animal):\n",
        "    def meow(self):\n",
        "        print(f\"{self.name} says Meow!\")\n",
        "\n",
        "\n",
        "# Demonstrating the classes\n",
        "dog1 = Dog(\"Buddy\")\n",
        "cat1 = Cat(\"Whiskers\")\n",
        "\n",
        "dog1.eat()\n",
        "dog1.sleep()\n",
        "cat1.eat()\n",
        "cat1.sleep()\n",
        "dog1.bark()\n",
        "cat1.meow()"
      ],
      "metadata": {
        "colab": {
          "base_uri": "https://localhost:8080/"
        },
        "id": "EYNWIfctbaqS",
        "outputId": "208596d7-2c41-4d94-ae4e-57975a477073"
      },
      "execution_count": 4,
      "outputs": [
        {
          "output_type": "stream",
          "name": "stdout",
          "text": [
            "Buddy is eating.\n",
            "Buddy is sleeping.\n",
            "Whiskers is eating.\n",
            "Whiskers is sleeping.\n",
            "Buddy says Woof!\n",
            "Whiskers says Meow!\n"
          ]
        }
      ]
    },
    {
      "cell_type": "code",
      "source": [
        "class Animal:\n",
        "    def make_sound(self):\n",
        "        print(\"Some generic animal sound\")\n",
        "\n",
        "class Dog(Animal):\n",
        "    def make_sound(self):\n",
        "        print(\"Woof!\")\n",
        "\n",
        "class Cat(Animal):\n",
        "    def make_sound(self):\n",
        "        print(\"Meow!\")\n",
        "\n",
        "class Bird(Animal):\n",
        "    def make_sound(self):\n",
        "        print(\"Tweet!\")\n",
        "\n",
        "# Demonstrating polymorphism\n",
        "animals = [Dog(), Cat(), Bird()]\n",
        "\n",
        "for animal in animals:\n",
        "    animal.make_sound()"
      ],
      "metadata": {
        "colab": {
          "base_uri": "https://localhost:8080/"
        },
        "id": "O9R8UT4ublgd",
        "outputId": "8bad2281-11e8-4ef0-f747-365848552200"
      },
      "execution_count": 5,
      "outputs": [
        {
          "output_type": "stream",
          "name": "stdout",
          "text": [
            "Woof!\n",
            "Meow!\n",
            "Tweet!\n"
          ]
        }
      ]
    }
  ]
}